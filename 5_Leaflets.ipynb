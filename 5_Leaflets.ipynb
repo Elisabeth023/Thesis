{
 "cells": [
  {
   "cell_type": "markdown",
   "metadata": {},
   "source": [
    "# Language distribution of the leaflets 1933-1946"
   ]
  },
  {
   "cell_type": "code",
   "execution_count": 1,
   "metadata": {},
   "outputs": [],
   "source": [
    "import pandas as pd\n",
    "import matplotlib.pyplot as plt\n",
    "import numpy as np\n",
    "import seaborn as sns"
   ]
  },
  {
   "cell_type": "code",
   "execution_count": 2,
   "metadata": {},
   "outputs": [
    {
     "data": {
      "text/html": [
       "<div>\n",
       "<style scoped>\n",
       "    .dataframe tbody tr th:only-of-type {\n",
       "        vertical-align: middle;\n",
       "    }\n",
       "\n",
       "    .dataframe tbody tr th {\n",
       "        vertical-align: top;\n",
       "    }\n",
       "\n",
       "    .dataframe thead th {\n",
       "        text-align: right;\n",
       "    }\n",
       "</style>\n",
       "<table border=\"1\" class=\"dataframe\">\n",
       "  <thead>\n",
       "    <tr style=\"text-align: right;\">\n",
       "      <th></th>\n",
       "      <th>Image</th>\n",
       "      <th>Collection</th>\n",
       "      <th>Production</th>\n",
       "      <th>Date</th>\n",
       "      <th>Occasion</th>\n",
       "      <th>Leaflet_Language</th>\n",
       "      <th>Opmerking</th>\n",
       "    </tr>\n",
       "  </thead>\n",
       "  <tbody>\n",
       "    <tr>\n",
       "      <th>0</th>\n",
       "      <td>0001_Untitled document_00002-20230218_101358.jpg</td>\n",
       "      <td>1933-1934</td>\n",
       "      <td>NaN</td>\n",
       "      <td>NaN</td>\n",
       "      <td>NaN</td>\n",
       "      <td>NaN</td>\n",
       "      <td>NaN</td>\n",
       "    </tr>\n",
       "    <tr>\n",
       "      <th>1</th>\n",
       "      <td>0002_Untitled document_00003-20230218_101416.jpg</td>\n",
       "      <td>1933-1934</td>\n",
       "      <td>NaN</td>\n",
       "      <td>NaN</td>\n",
       "      <td>NaN</td>\n",
       "      <td>NaN</td>\n",
       "      <td>NaN</td>\n",
       "    </tr>\n",
       "    <tr>\n",
       "      <th>2</th>\n",
       "      <td>0003_Untitled document_00004-20230218_102224.jpg</td>\n",
       "      <td>1933-1934</td>\n",
       "      <td>NaN</td>\n",
       "      <td>NaN</td>\n",
       "      <td>NaN</td>\n",
       "      <td>NaN</td>\n",
       "      <td>NaN</td>\n",
       "    </tr>\n",
       "    <tr>\n",
       "      <th>3</th>\n",
       "      <td>0004_Untitled document_00005-20230218_102247.jpg</td>\n",
       "      <td>1933-1934</td>\n",
       "      <td>Middernachtstango</td>\n",
       "      <td>9/9/1933</td>\n",
       "      <td>NaN</td>\n",
       "      <td>Dutch</td>\n",
       "      <td>Meerdere data: staan niet vermeld</td>\n",
       "    </tr>\n",
       "    <tr>\n",
       "      <th>4</th>\n",
       "      <td>0005_Untitled document_00006-20230218_102503.jpg</td>\n",
       "      <td>1933-1934</td>\n",
       "      <td>NaN</td>\n",
       "      <td>NaN</td>\n",
       "      <td>NaN</td>\n",
       "      <td>NaN</td>\n",
       "      <td>NaN</td>\n",
       "    </tr>\n",
       "  </tbody>\n",
       "</table>\n",
       "</div>"
      ],
      "text/plain": [
       "                                              Image Collection  \\\n",
       "0  0001_Untitled document_00002-20230218_101358.jpg  1933-1934   \n",
       "1  0002_Untitled document_00003-20230218_101416.jpg  1933-1934   \n",
       "2  0003_Untitled document_00004-20230218_102224.jpg  1933-1934   \n",
       "3  0004_Untitled document_00005-20230218_102247.jpg  1933-1934   \n",
       "4  0005_Untitled document_00006-20230218_102503.jpg  1933-1934   \n",
       "\n",
       "          Production      Date Occasion Leaflet_Language  \\\n",
       "0                NaN       NaN      NaN              NaN   \n",
       "1                NaN       NaN      NaN              NaN   \n",
       "2                NaN       NaN      NaN              NaN   \n",
       "3  Middernachtstango  9/9/1933      NaN            Dutch   \n",
       "4                NaN       NaN      NaN              NaN   \n",
       "\n",
       "                           Opmerking  \n",
       "0                                NaN  \n",
       "1                                NaN  \n",
       "2                                NaN  \n",
       "3  Meerdere data: staan niet vermeld  \n",
       "4                                NaN  "
      ]
     },
     "execution_count": 2,
     "metadata": {},
     "output_type": "execute_result"
    }
   ],
   "source": [
    "# Dataset 1933-1946 before preprocessing to include all pages\n",
    "df = pd.read_csv('../Materials/Dataset1933_1946.csv', sep='\\t', encoding='Latin-1', index_col=False)\n",
    "sns.set_palette(\"Set2\")\n",
    "df.head()"
   ]
  },
  {
   "cell_type": "code",
   "execution_count": 3,
   "metadata": {},
   "outputs": [
    {
     "data": {
      "text/plain": [
       "(6207, 7)"
      ]
     },
     "execution_count": 3,
     "metadata": {},
     "output_type": "execute_result"
    }
   ],
   "source": [
    "df.shape"
   ]
  },
  {
   "cell_type": "code",
   "execution_count": 4,
   "metadata": {},
   "outputs": [],
   "source": [
    "#strip leading and trailing whitespaces\n",
    "for column in df.columns:\n",
    "    try:\n",
    "        df[column] = df[column].str.strip()\n",
    "    except AttributeError:\n",
    "        continue"
   ]
  },
  {
   "cell_type": "code",
   "execution_count": 5,
   "metadata": {},
   "outputs": [],
   "source": [
    "#convert date to datetime\n",
    "df['Date'] = pd.to_datetime(df['Date'], dayfirst=True, errors='coerce')"
   ]
  },
  {
   "cell_type": "code",
   "execution_count": 6,
   "metadata": {},
   "outputs": [],
   "source": [
    "# Remove rows with NaN values in the 'Leaflet_Language' column\n",
    "df = df.dropna(subset=['Leaflet_Language'])"
   ]
  },
  {
   "cell_type": "code",
   "execution_count": 7,
   "metadata": {},
   "outputs": [
    {
     "data": {
      "text/plain": [
       "(5683, 7)"
      ]
     },
     "execution_count": 7,
     "metadata": {},
     "output_type": "execute_result"
    }
   ],
   "source": [
    "df.shape"
   ]
  },
  {
   "cell_type": "code",
   "execution_count": 8,
   "metadata": {},
   "outputs": [
    {
     "data": {
      "text/plain": [
       "Dutch             4837\n",
       "German             751\n",
       "Dutch + German      34\n",
       "Dutch + French      30\n",
       "French              26\n",
       "Italian              5\n",
       "Name: Leaflet_Language, dtype: int64"
      ]
     },
     "execution_count": 8,
     "metadata": {},
     "output_type": "execute_result"
    }
   ],
   "source": [
    "# Leaflet languages in the dataset\n",
    "df['Leaflet_Language'].value_counts()"
   ]
  },
  {
   "cell_type": "code",
   "execution_count": 9,
   "metadata": {},
   "outputs": [
    {
     "data": {
      "text/plain": [
       "Dutch             1422\n",
       "German             692\n",
       "Dutch + German      25\n",
       "Name: Leaflet_Language, dtype: int64"
      ]
     },
     "execution_count": 9,
     "metadata": {},
     "output_type": "execute_result"
    }
   ],
   "source": [
    "# Select only 1940 to 1945\n",
    "seasons_during_war = ['1940-1941', '1941-1942', '1942-1943', '1943-1944', '1944-1945']\n",
    "\n",
    "# Filter DataFrame for seasons during the war\n",
    "df_during_war = df[df['Collection'].isin(seasons_during_war)]\n",
    "\n",
    "df_during_war['Leaflet_Language'].value_counts()"
   ]
  },
  {
   "cell_type": "markdown",
   "metadata": {},
   "source": [
    "## Preprocessing 1933-1946"
   ]
  },
  {
   "cell_type": "code",
   "execution_count": 10,
   "metadata": {},
   "outputs": [],
   "source": [
    "counts = df.groupby('Collection')['Leaflet_Language'].value_counts().unstack().fillna(0)\n",
    "#Use grouby, unstack and fillna so that zero is displayed when a language is not featured in a group (season).\n",
    "\n",
    "# To maintain readability of the table, we only keep Dutch and German\n",
    "counts = counts[['Dutch', 'German']]"
   ]
  },
  {
   "cell_type": "markdown",
   "metadata": {},
   "source": [
    "## Relative frequencies 1933-1946"
   ]
  },
  {
   "cell_type": "code",
   "execution_count": 11,
   "metadata": {},
   "outputs": [
    {
     "data": {
      "image/png": "[encoded data removed]",
      "text/plain": [
       "<Figure size 432x288 with 1 Axes>"
      ]
     },
     "metadata": {
      "needs_background": "light"
     },
     "output_type": "display_data"
    }
   ],
   "source": [
    "total_counts = counts.sum(axis=1)\n",
    "\n",
    "# compute the relative frequencies for each language in each season\n",
    "rel_counts = counts.divide(total_counts, axis=0)\n",
    "\n",
    "rel_counts.plot(kind='bar')\n",
    "\n",
    "plt.title('% language Frequencies Over Time 1933-1946')\n",
    "plt.xlabel('Season')\n",
    "plt.ylabel('Relative frequency')\n",
    "\n",
    "plt.axvline(x=counts.index.get_loc('1940-1941'), color='red', alpha=0.7, linestyle='--', label='Start of WWII')\n",
    "\n",
    "plt.xticks(rotation=-45)\n",
    "plt.legend(loc='center left', bbox_to_anchor=(1, 0.5))\n",
    "\n",
    "plt.show()"
   ]
  },
  {
   "cell_type": "code",
   "execution_count": 12,
   "metadata": {},
   "outputs": [
    {
     "data": {
      "text/html": [
       "<div>\n",
       "<style scoped>\n",
       "    .dataframe tbody tr th:only-of-type {\n",
       "        vertical-align: middle;\n",
       "    }\n",
       "\n",
       "    .dataframe tbody tr th {\n",
       "        vertical-align: top;\n",
       "    }\n",
       "\n",
       "    .dataframe thead th {\n",
       "        text-align: right;\n",
       "    }\n",
       "</style>\n",
       "<table border=\"1\" class=\"dataframe\">\n",
       "  <thead>\n",
       "    <tr style=\"text-align: right;\">\n",
       "      <th>Leaflet_Language</th>\n",
       "      <th>Dutch</th>\n",
       "      <th>German</th>\n",
       "    </tr>\n",
       "    <tr>\n",
       "      <th>Collection</th>\n",
       "      <th></th>\n",
       "      <th></th>\n",
       "    </tr>\n",
       "  </thead>\n",
       "  <tbody>\n",
       "    <tr>\n",
       "      <th>1933-1934</th>\n",
       "      <td>1.000000</td>\n",
       "      <td>0.000000</td>\n",
       "    </tr>\n",
       "    <tr>\n",
       "      <th>1934-1935</th>\n",
       "      <td>1.000000</td>\n",
       "      <td>0.000000</td>\n",
       "    </tr>\n",
       "    <tr>\n",
       "      <th>1935-1936</th>\n",
       "      <td>1.000000</td>\n",
       "      <td>0.000000</td>\n",
       "    </tr>\n",
       "    <tr>\n",
       "      <th>1936-1937</th>\n",
       "      <td>1.000000</td>\n",
       "      <td>0.000000</td>\n",
       "    </tr>\n",
       "    <tr>\n",
       "      <th>1937-1938</th>\n",
       "      <td>1.000000</td>\n",
       "      <td>0.000000</td>\n",
       "    </tr>\n",
       "    <tr>\n",
       "      <th>1938-1939</th>\n",
       "      <td>0.982736</td>\n",
       "      <td>0.017264</td>\n",
       "    </tr>\n",
       "    <tr>\n",
       "      <th>1939-1940</th>\n",
       "      <td>1.000000</td>\n",
       "      <td>0.000000</td>\n",
       "    </tr>\n",
       "    <tr>\n",
       "      <th>1940-1941</th>\n",
       "      <td>0.662513</td>\n",
       "      <td>0.337487</td>\n",
       "    </tr>\n",
       "    <tr>\n",
       "      <th>1941-1942</th>\n",
       "      <td>0.912821</td>\n",
       "      <td>0.087179</td>\n",
       "    </tr>\n",
       "    <tr>\n",
       "      <th>1942-1943</th>\n",
       "      <td>0.562418</td>\n",
       "      <td>0.437582</td>\n",
       "    </tr>\n",
       "    <tr>\n",
       "      <th>1943/1944</th>\n",
       "      <td>0.917563</td>\n",
       "      <td>0.082437</td>\n",
       "    </tr>\n",
       "    <tr>\n",
       "      <th>1944/1945</th>\n",
       "      <td>1.000000</td>\n",
       "      <td>0.000000</td>\n",
       "    </tr>\n",
       "    <tr>\n",
       "      <th>1945/1946</th>\n",
       "      <td>1.000000</td>\n",
       "      <td>0.000000</td>\n",
       "    </tr>\n",
       "  </tbody>\n",
       "</table>\n",
       "</div>"
      ],
      "text/plain": [
       "Leaflet_Language     Dutch    German\n",
       "Collection                          \n",
       "1933-1934         1.000000  0.000000\n",
       "1934-1935         1.000000  0.000000\n",
       "1935-1936         1.000000  0.000000\n",
       "1936-1937         1.000000  0.000000\n",
       "1937-1938         1.000000  0.000000\n",
       "1938-1939         0.982736  0.017264\n",
       "1939-1940         1.000000  0.000000\n",
       "1940-1941         0.662513  0.337487\n",
       "1941-1942         0.912821  0.087179\n",
       "1942-1943         0.562418  0.437582\n",
       "1943/1944         0.917563  0.082437\n",
       "1944/1945         1.000000  0.000000\n",
       "1945/1946         1.000000  0.000000"
      ]
     },
     "execution_count": 12,
     "metadata": {},
     "output_type": "execute_result"
    }
   ],
   "source": [
    "rel_counts"
   ]
  },
  {
   "cell_type": "markdown",
   "metadata": {},
   "source": [
    "# Absolute freqs 1933-1946"
   ]
  },
  {
   "cell_type": "code",
   "execution_count": 13,
   "metadata": {},
   "outputs": [
    {
     "data": {
      "image/png": "[encoded data removed]",
      "text/plain": [
       "<Figure size 432x288 with 1 Axes>"
      ]
     },
     "metadata": {
      "needs_background": "light"
     },
     "output_type": "display_data"
    }
   ],
   "source": [
    "counts.plot(kind='bar')\n",
    "\n",
    "plt.title('Language Counts Over Time 1933-1946')\n",
    "plt.xlabel('Season')\n",
    "plt.ylabel('Absolute frequency')\n",
    "\n",
    "plt.axvline(x=counts.index.get_loc('1940-1941'), color='red', alpha=0.7, linestyle='--', label='Start of WWII')\n",
    "\n",
    "#plt.xticks(np.arange(len(x)), x, rotation=-90)\n",
    "plt.legend(loc='center left', bbox_to_anchor=(1, 0.5))\n",
    "\n",
    "plt.show()"
   ]
  },
  {
   "cell_type": "code",
   "execution_count": 14,
   "metadata": {},
   "outputs": [
    {
     "data": {
      "text/html": [
       "<div>\n",
       "<style scoped>\n",
       "    .dataframe tbody tr th:only-of-type {\n",
       "        vertical-align: middle;\n",
       "    }\n",
       "\n",
       "    .dataframe tbody tr th {\n",
       "        vertical-align: top;\n",
       "    }\n",
       "\n",
       "    .dataframe thead th {\n",
       "        text-align: right;\n",
       "    }\n",
       "</style>\n",
       "<table border=\"1\" class=\"dataframe\">\n",
       "  <thead>\n",
       "    <tr style=\"text-align: right;\">\n",
       "      <th>Leaflet_Language</th>\n",
       "      <th>Dutch</th>\n",
       "      <th>German</th>\n",
       "    </tr>\n",
       "    <tr>\n",
       "      <th>Collection</th>\n",
       "      <th></th>\n",
       "      <th></th>\n",
       "    </tr>\n",
       "  </thead>\n",
       "  <tbody>\n",
       "    <tr>\n",
       "      <th>1933-1934</th>\n",
       "      <td>157.0</td>\n",
       "      <td>0.0</td>\n",
       "    </tr>\n",
       "    <tr>\n",
       "      <th>1934-1935</th>\n",
       "      <td>142.0</td>\n",
       "      <td>0.0</td>\n",
       "    </tr>\n",
       "    <tr>\n",
       "      <th>1935-1936</th>\n",
       "      <td>283.0</td>\n",
       "      <td>0.0</td>\n",
       "    </tr>\n",
       "    <tr>\n",
       "      <th>1936-1937</th>\n",
       "      <td>325.0</td>\n",
       "      <td>0.0</td>\n",
       "    </tr>\n",
       "    <tr>\n",
       "      <th>1937-1938</th>\n",
       "      <td>294.0</td>\n",
       "      <td>0.0</td>\n",
       "    </tr>\n",
       "    <tr>\n",
       "      <th>1938-1939</th>\n",
       "      <td>740.0</td>\n",
       "      <td>13.0</td>\n",
       "    </tr>\n",
       "    <tr>\n",
       "      <th>1939-1940</th>\n",
       "      <td>254.0</td>\n",
       "      <td>0.0</td>\n",
       "    </tr>\n",
       "    <tr>\n",
       "      <th>1940-1941</th>\n",
       "      <td>638.0</td>\n",
       "      <td>325.0</td>\n",
       "    </tr>\n",
       "    <tr>\n",
       "      <th>1941-1942</th>\n",
       "      <td>356.0</td>\n",
       "      <td>34.0</td>\n",
       "    </tr>\n",
       "    <tr>\n",
       "      <th>1942-1943</th>\n",
       "      <td>428.0</td>\n",
       "      <td>333.0</td>\n",
       "    </tr>\n",
       "    <tr>\n",
       "      <th>1943/1944</th>\n",
       "      <td>512.0</td>\n",
       "      <td>46.0</td>\n",
       "    </tr>\n",
       "    <tr>\n",
       "      <th>1944/1945</th>\n",
       "      <td>209.0</td>\n",
       "      <td>0.0</td>\n",
       "    </tr>\n",
       "    <tr>\n",
       "      <th>1945/1946</th>\n",
       "      <td>499.0</td>\n",
       "      <td>0.0</td>\n",
       "    </tr>\n",
       "  </tbody>\n",
       "</table>\n",
       "</div>"
      ],
      "text/plain": [
       "Leaflet_Language  Dutch  German\n",
       "Collection                     \n",
       "1933-1934         157.0     0.0\n",
       "1934-1935         142.0     0.0\n",
       "1935-1936         283.0     0.0\n",
       "1936-1937         325.0     0.0\n",
       "1937-1938         294.0     0.0\n",
       "1938-1939         740.0    13.0\n",
       "1939-1940         254.0     0.0\n",
       "1940-1941         638.0   325.0\n",
       "1941-1942         356.0    34.0\n",
       "1942-1943         428.0   333.0\n",
       "1943/1944         512.0    46.0\n",
       "1944/1945         209.0     0.0\n",
       "1945/1946         499.0     0.0"
      ]
     },
     "execution_count": 14,
     "metadata": {},
     "output_type": "execute_result"
    }
   ],
   "source": [
    "counts"
   ]
  }
 ],
 "metadata": {
  "kernelspec": {
   "display_name": "Python 3 (ipykernel)",
   "language": "python",
   "name": "python3"
  },
  "language_info": {
   "codemirror_mode": {
    "name": "ipython",
    "version": 3
   },
   "file_extension": ".py",
   "mimetype": "text/x-python",
   "name": "python",
   "nbconvert_exporter": "python",
   "pygments_lexer": "ipython3",
   "version": "3.9.12"
  },
  "vscode": {
   "interpreter": {
    "hash": "96e0a4d32f1918f770291244863a4a1e044b05d1a3b8d455e2e179187e01062a"
   }
  }
 },
 "nbformat": 4,
 "nbformat_minor": 2
}
