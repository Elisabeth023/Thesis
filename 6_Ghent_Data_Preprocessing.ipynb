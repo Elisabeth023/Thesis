{
 "cells": [
  {
   "cell_type": "markdown",
   "id": "ea717f91",
   "metadata": {},
   "source": [
    "# Preprocessing of the dataset Ghent\n",
    "\n",
    "## Data cleaning"
   ]
  },
  {
   "cell_type": "code",
   "execution_count": 1,
   "id": "42a94d3d",
   "metadata": {},
   "outputs": [],
   "source": [
    "import pandas as pd"
   ]
  },
  {
   "cell_type": "code",
   "execution_count": 2,
   "id": "8837b01e",
   "metadata": {},
   "outputs": [
    {
     "data": {
      "text/html": [
       "<div>\n",
       "<style scoped>\n",
       "    .dataframe tbody tr th:only-of-type {\n",
       "        vertical-align: middle;\n",
       "    }\n",
       "\n",
       "    .dataframe tbody tr th {\n",
       "        vertical-align: top;\n",
       "    }\n",
       "\n",
       "    .dataframe thead th {\n",
       "        text-align: right;\n",
       "    }\n",
       "</style>\n",
       "<table border=\"1\" class=\"dataframe\">\n",
       "  <thead>\n",
       "    <tr style=\"text-align: right;\">\n",
       "      <th></th>\n",
       "      <th>Date</th>\n",
       "      <th>Production</th>\n",
       "    </tr>\n",
       "  </thead>\n",
       "  <tbody>\n",
       "    <tr>\n",
       "      <th>0</th>\n",
       "      <td>26/10/1940</td>\n",
       "      <td>De Vroolijke vrouwtjes van Windsor</td>\n",
       "    </tr>\n",
       "    <tr>\n",
       "      <th>1</th>\n",
       "      <td>27/10/1940</td>\n",
       "      <td>De Vroolijke vrouwtjes van Windsor</td>\n",
       "    </tr>\n",
       "    <tr>\n",
       "      <th>2</th>\n",
       "      <td>27/10/1940</td>\n",
       "      <td>Het Land der Meisjes</td>\n",
       "    </tr>\n",
       "    <tr>\n",
       "      <th>3</th>\n",
       "      <td>3/11/1940</td>\n",
       "      <td>1e Operaconcert</td>\n",
       "    </tr>\n",
       "    <tr>\n",
       "      <th>4</th>\n",
       "      <td>3/11/1940</td>\n",
       "      <td>Het Land der Meisjes</td>\n",
       "    </tr>\n",
       "  </tbody>\n",
       "</table>\n",
       "</div>"
      ],
      "text/plain": [
       "         Date                          Production\n",
       "0  26/10/1940  De Vroolijke vrouwtjes van Windsor\n",
       "1  27/10/1940  De Vroolijke vrouwtjes van Windsor\n",
       "2  27/10/1940                Het Land der Meisjes\n",
       "3   3/11/1940                     1e Operaconcert\n",
       "4   3/11/1940                Het Land der Meisjes"
      ]
     },
     "execution_count": 2,
     "metadata": {},
     "output_type": "execute_result"
    }
   ],
   "source": [
    "df = pd.read_csv('../Materials/Dataset_Sanne_Baeck.csv', sep='\\t')\n",
    "df.head()"
   ]
  },
  {
   "cell_type": "code",
   "execution_count": 3,
   "id": "8840f690",
   "metadata": {},
   "outputs": [
    {
     "name": "stdout",
     "output_type": "stream",
     "text": [
      "Number of rows in df: 897\n"
     ]
    }
   ],
   "source": [
    "# Number of rows\n",
    "num_rows = df.shape[0]\n",
    "print(\"Number of rows in df:\", num_rows)"
   ]
  },
  {
   "cell_type": "code",
   "execution_count": 4,
   "id": "23bd8100",
   "metadata": {},
   "outputs": [],
   "source": [
    "#Delete trailing and leading whitespaces.\n",
    "#df['Image'] = df['Image'].str.strip() \n",
    "#df['Collection'] = df['Collection'].str.strip() \n",
    "df['Production'] = df['Production'].str.strip() \n",
    "#df['Occasion'] = df['Occasion'].str.strip() "
   ]
  },
  {
   "cell_type": "code",
   "execution_count": 5,
   "id": "3bee619b",
   "metadata": {},
   "outputs": [
    {
     "data": {
      "text/plain": [
       "False    896\n",
       "True       1\n",
       "Name: Multiple bill, dtype: int64"
      ]
     },
     "execution_count": 5,
     "metadata": {},
     "output_type": "execute_result"
    }
   ],
   "source": [
    "#New boolean column, which indicates whether the performance was part of a multiple bill (True) or not (False).\n",
    "\n",
    "multiple_bills = []\n",
    "for row in df['Production']:\n",
    "    if '+' in str(row):\n",
    "        multiple_bills.append(True)\n",
    "    else:\n",
    "        multiple_bills.append(False)\n",
    "\n",
    "\n",
    "df['Multiple bill'] = multiple_bills\n",
    "df['Multiple bill'].value_counts()"
   ]
  },
  {
   "cell_type": "code",
   "execution_count": 6,
   "id": "4c1d8e7c",
   "metadata": {},
   "outputs": [],
   "source": [
    "#New column with a random ID voor each performance.\n",
    "\n",
    "import random\n",
    "df['Performances_ID'] = random.sample(range(100000, 999999), df.shape[0])"
   ]
  },
  {
   "cell_type": "code",
   "execution_count": 7,
   "id": "93146f0e",
   "metadata": {},
   "outputs": [
    {
     "data": {
      "text/html": [
       "<div>\n",
       "<style scoped>\n",
       "    .dataframe tbody tr th:only-of-type {\n",
       "        vertical-align: middle;\n",
       "    }\n",
       "\n",
       "    .dataframe tbody tr th {\n",
       "        vertical-align: top;\n",
       "    }\n",
       "\n",
       "    .dataframe thead th {\n",
       "        text-align: right;\n",
       "    }\n",
       "</style>\n",
       "<table border=\"1\" class=\"dataframe\">\n",
       "  <thead>\n",
       "    <tr style=\"text-align: right;\">\n",
       "      <th></th>\n",
       "      <th>Date</th>\n",
       "      <th>Production</th>\n",
       "      <th>Multiple bill</th>\n",
       "      <th>Performances_ID</th>\n",
       "    </tr>\n",
       "  </thead>\n",
       "  <tbody>\n",
       "    <tr>\n",
       "      <th>196</th>\n",
       "      <td>16/10/1941</td>\n",
       "      <td>Marieken van Nijmegem</td>\n",
       "      <td>False</td>\n",
       "      <td>512966</td>\n",
       "    </tr>\n",
       "    <tr>\n",
       "      <th>361</th>\n",
       "      <td>8/5/1942</td>\n",
       "      <td>Symfonisch Orkest: Paul Douliez</td>\n",
       "      <td>False</td>\n",
       "      <td>997750</td>\n",
       "    </tr>\n",
       "    <tr>\n",
       "      <th>314</th>\n",
       "      <td>6/3/1942</td>\n",
       "      <td>Die Weenersangerknaben</td>\n",
       "      <td>False</td>\n",
       "      <td>226436</td>\n",
       "    </tr>\n",
       "    <tr>\n",
       "      <th>817</th>\n",
       "      <td>24/3/1944</td>\n",
       "      <td>Strijkkwartet De Groot</td>\n",
       "      <td>False</td>\n",
       "      <td>660826</td>\n",
       "    </tr>\n",
       "    <tr>\n",
       "      <th>257</th>\n",
       "      <td>20/12/1941</td>\n",
       "      <td>De Parelvissers</td>\n",
       "      <td>False</td>\n",
       "      <td>574818</td>\n",
       "    </tr>\n",
       "  </tbody>\n",
       "</table>\n",
       "</div>"
      ],
      "text/plain": [
       "           Date                       Production  Multiple bill  \\\n",
       "196  16/10/1941            Marieken van Nijmegem          False   \n",
       "361    8/5/1942  Symfonisch Orkest: Paul Douliez          False   \n",
       "314    6/3/1942           Die Weenersangerknaben          False   \n",
       "817   24/3/1944           Strijkkwartet De Groot          False   \n",
       "257  20/12/1941                  De Parelvissers          False   \n",
       "\n",
       "     Performances_ID  \n",
       "196           512966  \n",
       "361           997750  \n",
       "314           226436  \n",
       "817           660826  \n",
       "257           574818  "
      ]
     },
     "execution_count": 7,
     "metadata": {},
     "output_type": "execute_result"
    }
   ],
   "source": [
    "# Cells that include a '+' , i.e. a multiple bill are split so that each row only contains one work.\n",
    "# Through the Performance_ID we can keep track of those performances that were performed as a multiple bill.\n",
    "\n",
    "df = df.assign(Production=df.Production.str.split(\"+\")).explode('Production')\n",
    "df = df.reset_index(drop=True)\n",
    "df.sample(5)"
   ]
  },
  {
   "cell_type": "code",
   "execution_count": 8,
   "id": "0069230f",
   "metadata": {},
   "outputs": [],
   "source": [
    "#unique_productions = df['Production'].unique()\n",
    "#print(unique_productions)"
   ]
  },
  {
   "cell_type": "markdown",
   "id": "f8952123",
   "metadata": {},
   "source": [
    "## Normalise spelling"
   ]
  },
  {
   "cell_type": "code",
   "execution_count": 9,
   "id": "24d7cd35",
   "metadata": {},
   "outputs": [],
   "source": [
    "VariatieC = {\n",
    "\"Het Minnebrugje\" : \"'t Minnebrugje T' Minnebrugje Het Minnebrugsken Het minnebrugje Minnebrugje\",\n",
    "\"De Blauwe Donau\" : \"De Schone Blauwe Donau\",\n",
    "\"Het Arendsnest\" : \"Arendsnest\",\n",
    "\"Bohème\" : \"Boheme Die Bohème Die Boheme\",\n",
    "\"De Bruid der Zee\" : \"Bruid der Zee\",\n",
    "\"Het Kind\" : \"Das Kind\",\n",
    "\"De Verkochte Bruid\" : \"Die Verkaufte Braut\",\n",
    "\"Czaar en Timmerman\" : \"Csaar en Timmerman Zar und Zimmermann Tsaar en Timmerman\",\n",
    "\"De Verzonken Klok\" : \"De Verzonkene Klok\",\n",
    "\"De Bedelstudent\" : \"De Arme student\",\n",
    "\"Suite n°7\" : \"Suite 7\",\n",
    "\"Anne-Marie\" : \"Anna-Marie\",\n",
    "\"De Doode Oogen\" : \"De Dode Ogen\",\n",
    "\"De Doode Stad\" : \"De Dode Stad\",\n",
    "\"De Koningin van Saba\" : \"De Koningin van Saaba\",\n",
    "\"De Lustige Boer\" : \"De Lustige Broeder Lustige Boer\",\n",
    "\"De Lustige Oorlog\" : \"De Vrolijke Oorlog\",\n",
    "\"De Lustige Vrouwtjes van Windsor\" : \"De Vroolijke vrouwtjes van Windsor The Merry Wives of Windsor De Vrolijke Vrouwtjes van Windsor Lustige Vrouwtjes van Windsor\",\n",
    "\"De Meesterzangers van Nurenberg\" : \"Die Meistersinger von Nürnberg Die Meistersing von Nürnberg De Meesterzangers van Neurenberg De Meesterzanger De Meesterzangers De Meesterzangers van Nuremberg De Meesterzangers van Nürnberg\", \n",
    "\"De Tooverfluit\" : \"Tooverfluit Tooverfluit Die Zauberflöte\",\n",
    "\"De Tragedie van Salomé\" : \"De tragedie van Salomé Salome\",\n",
    "\"De Twee Medaillons\" : \"De Tweede Medaillons\",\n",
    "\"De Vestale\" : \"Vestale\",\n",
    "\"De Vrijschutter\" : \"Vrijschutter Der Freischütz\",\n",
    "\"De Walkure\" : \"De Walküre La Walkyrie Die Walkure Die Walküre Die Walkuere\",\n",
    "\"De Zeven Hoofdzonden\" : \"de Zeven Hoofdzonden\",\n",
    "\"De Drie Houten Poppen\" : \"De drie Houten Poppen\",\n",
    "\"De Evangelieman\" : \"Die Evangelieman\",\n",
    "\"Don Juan\" : \"Don Giovanni\",\n",
    "\"Vier Canzoni\" : \"4 canzoni\",\n",
    "\"De Draaimolen\" : \"Draaimolen\",\n",
    "\"Driemeisjeshuis\" : \"Het Driemeisjeshuis\",\n",
    "\"Een Nacht te Grenada\" : \"Eeen Nacht te Grenada\",\n",
    "\"Ein Walzertraum\" : \"Walzertaum Walsdroom\",\n",
    "\"Hansje en Grietje\" : \"Hans en Grietje Hansel en Gretel\",\n",
    "\"Herbergprinses\" : \"Herbergrprinses Herberprinses\",\n",
    "\"Het Rijngoud\" : \"Rijngoud Rheingold\",\n",
    "\"Het Rozemarijntje\" : \"Rosemarijntje Rozemarijntje\",\n",
    "\"Winternachtsdroom\" : \"Het Winternachtsdroom\",\n",
    "\"Zeevolk\" : \"Het Zeevolk\",\n",
    "\"Pan\" : \"Ballet Pan\",\n",
    "\"Hoffmann's Vertellingen\" : \"Hoffmann's Vertellingenen\",\n",
    "\"Jean-Marie\" : \"Jose Maria Jean Marie Marie José\",\n",
    "\"Jozef in Egypte\" : \"Josef in Egypte\",\n",
    "\"De Kinderen der Zee\": \"Kinderen der Zee\",\n",
    "\"Liefdetoover\" : \"Liefde Toover\",\n",
    "\"Marieke van Nijmegem\" : \"Marieke van Nymwegen Marieke van Nijmegen Marike van Nymegem\",\n",
    "\"Orpheus' Dood\" : \"Orpheus's Dood\",\n",
    "\"Paljas\" : \"Pagliacci Der Bajazzo Bajazzo\",\n",
    "\"Parisina\" : 'Parsina',\n",
    "\"Quinten Massijs\" : \"Quinten Massys Quinten Metsys Quinten-Massijs Quinten-Massys\",\n",
    "\"Reeks van Oud-Grieksche Dansen\" : \"Reeks van Oud-Griekscge Dansen\",\n",
    "\"Reinaert de Vos\" : \"Reinart de Vos Reinaert de vos\",\n",
    "\"De Rijndwergen\": \"Rijndwergen\",\n",
    "\"Tannhauser\" : \"Tannhäuser\",\n",
    "\"Wiener Sängerknaben\" : \"Die Weenersangerknaben\",\n",
    "\"Theroigne de Mericout\" : \"Theroigne De Mericourt Theroigne de Mericoux Théroigne de Méricourt Théroigne de Méricout\",\n",
    "\"Toespraak van den Heer Dr. Maurits Sabbe, conservator van het Museum Plantijn\" : \"Toespraal van den Heer Dr. Maurits Sabbe, conservator van het Museum Plantijn\",\n",
    "\"Tweede Dansenreeks\" : \"Tweede dansreeks\",\n",
    "\"Tristan en Isolde\" : \"Tristan und Isolde\",\n",
    "\"Faust\" : \"Faust (Margarethe)\",\n",
    "\"Francesca\" : \"Francesca (De Bloeiende Weg)\",\n",
    "\"Traviata\" : \"La Traviata\",\n",
    "\"Thijl Uilenspiegel\" : \"Tijl Uilenspiegel\",\n",
    "\"Het Land van den Glimlach\" : \"Das Land des Lächelns Het Land van de Glimlach\",\n",
    "\"De Rozenkavalier\" : \"Der Rosenkavalier\",\n",
    "\"De Vledermuis\" : \"Die Fledermaus\",\n",
    "\"De Vliegende Hollander\" : \"Der fliegende Holländer\",\n",
    "\"Mächte des Lebens\": \"Levensmachten\",\n",
    "\"Der Heiratsspiegel\" : \"De Spiegel van het Huwelijk\",\n",
    "\"Lakme\" : \"Lakmé\",\n",
    "\"Boris Godounow\" : \"Boris Godouwnow\",\n",
    "\"De Glasblazer\" : \"Der Glasbläser\",\n",
    "\"Paris in Verlegenheid\" : \"\\\"Paris\\\" in Verlegenheid\", \n",
    "\"Iphigénie en Tauride\" : \"Iphigeneia in Tauris\",\n",
    "\"Aïda\" : \"Aida\",\n",
    "\"De Tsarewitsch\" : \"Tsarewitsch\",\n",
    "\"Rhapsodie N. 2\" : \"Rhapsodie Nr 2 2e Rhapsodie\",\n",
    "\"André Chénier\" : \"Andre Chenier Andrea Chenier\",\n",
    "\"Götterdämmerung\" : \"Godendeemstering\",\n",
    "\"Prinses Zonneschijn\" : \"Prinzessin Sonnenschein\",\n",
    "\"Ariane en Blauwbaard\" : \"Ariane et Barbe Bleue Ariane et Barbe-Bleue\",\n",
    "\"De Parelvisschers\" : \"Die Perlenfischer De Parelvissers\",\n",
    "\"De Zigeunerbaron\" : \"Der Zigeunerbaron\",\n",
    "\"De Graaf van Luxemburg\" : \"Der Graf von Luxemburg\",\n",
    "\"Elsje Zevenschoon\" : \"Elschen Siebenschön\",\n",
    "\"Romeo en Julia\" : \"Romeo und Julia\",\n",
    "\"De Lustige Weduwe\" : \"Die Lustige Witwe\",\n",
    "\"De Barbier van Sevilla\" : \"Der Barbier von Sevilla\",\n",
    "\"Het Meisje van Zaventem\" : \"Das Mädchen von Zaventem\",\n",
    "\"Tombeleene\": \"Ballet Tambolene\",\n",
    "\"Zwaanhild\" : \"Schwanhild\",\n",
    "\"De Vogelhandelaar\" : \"Der Vogelhändler\",\n",
    "\"Dansvertooning II\" : \"Tanzvorstellung II\",\n",
    "\"De Sylphiden\" : \"20 minuten ballet Sylphiden\",\n",
    "\"Visioen\" : \"Vision\",\n",
    "\"Frederika\" : \"Friederike\",\n",
    "\"Carnaval\" : \"Ballet Carnaval\",\n",
    "\"De Koekoek\" : \"Koekoek 20 minuten ballet Koekoek\",\n",
    "\"Figaro’s Bruiloft\" : \"Le Nozze di Figaro Figaros Hochzeit Figaro's Hoekzeit\",\n",
    "\"De Ontvoering uit het Serail\" : \"Die Entführung aus dem Serail Die Entfürung aus dem Serail\",\n",
    "\"Zwaargewicht\" : \"Zwaargewicht ( of De eer van't Land)\"\n",
    "}"
   ]
  },
  {
   "cell_type": "code",
   "execution_count": 10,
   "id": "cc7e0a04",
   "metadata": {},
   "outputs": [],
   "source": [
    "#create functions that iterates over the items in the dictionary and returns the key if the title is in the values.\n",
    "#if it is not in the values, there was not spelling variation for this title and the title is returned.\n",
    "def clean_titles (row):\n",
    "\n",
    "    for key, values in VariatieC.items():\n",
    "        if str(row) in str(values):\n",
    "            #print('it is in the values')\n",
    "            return key\n",
    "        elif row == key:\n",
    "            return key\n",
    "    else:\n",
    "        return row   "
   ]
  },
  {
   "cell_type": "code",
   "execution_count": 11,
   "id": "48663cef",
   "metadata": {},
   "outputs": [
    {
     "name": "stdout",
     "output_type": "stream",
     "text": [
      "Hoffman's Vertellingen\n",
      "Tannhauser\n",
      "Madame Butterfly\n"
     ]
    }
   ],
   "source": [
    "#Test it on some variations.\n",
    "\n",
    "a = \"Hoffman's Vertellingen\"\n",
    "b = \"Tannhäuser\"\n",
    "c = 'Madame Butterfly'\n",
    "\n",
    "print(clean_titles(a))\n",
    "print(clean_titles(b))\n",
    "print(clean_titles(c))"
   ]
  },
  {
   "cell_type": "code",
   "execution_count": 12,
   "id": "2a79935e",
   "metadata": {},
   "outputs": [],
   "source": [
    "#Function is now applied to the entire dataset. The normalised spelling is gathered in a new column called 'Genormaliseerde titel'.\n",
    "df['Normalised title'] = df['Production'].apply(clean_titles)"
   ]
  },
  {
   "cell_type": "code",
   "execution_count": 13,
   "id": "012fa0b7",
   "metadata": {},
   "outputs": [
    {
     "data": {
      "text/html": [
       "<div>\n",
       "<style scoped>\n",
       "    .dataframe tbody tr th:only-of-type {\n",
       "        vertical-align: middle;\n",
       "    }\n",
       "\n",
       "    .dataframe tbody tr th {\n",
       "        vertical-align: top;\n",
       "    }\n",
       "\n",
       "    .dataframe thead th {\n",
       "        text-align: right;\n",
       "    }\n",
       "</style>\n",
       "<table border=\"1\" class=\"dataframe\">\n",
       "  <thead>\n",
       "    <tr style=\"text-align: right;\">\n",
       "      <th></th>\n",
       "      <th>Date</th>\n",
       "      <th>Production</th>\n",
       "      <th>Multiple bill</th>\n",
       "      <th>Performances_ID</th>\n",
       "      <th>Normalised title</th>\n",
       "    </tr>\n",
       "  </thead>\n",
       "  <tbody>\n",
       "    <tr>\n",
       "      <th>0</th>\n",
       "      <td>26/10/1940</td>\n",
       "      <td>De Vroolijke vrouwtjes van Windsor</td>\n",
       "      <td>False</td>\n",
       "      <td>221650</td>\n",
       "      <td>De Lustige Vrouwtjes van Windsor</td>\n",
       "    </tr>\n",
       "    <tr>\n",
       "      <th>1</th>\n",
       "      <td>27/10/1940</td>\n",
       "      <td>De Vroolijke vrouwtjes van Windsor</td>\n",
       "      <td>False</td>\n",
       "      <td>373227</td>\n",
       "      <td>De Lustige Vrouwtjes van Windsor</td>\n",
       "    </tr>\n",
       "    <tr>\n",
       "      <th>2</th>\n",
       "      <td>27/10/1940</td>\n",
       "      <td>Het Land der Meisjes</td>\n",
       "      <td>False</td>\n",
       "      <td>278393</td>\n",
       "      <td>Het Land der Meisjes</td>\n",
       "    </tr>\n",
       "    <tr>\n",
       "      <th>3</th>\n",
       "      <td>3/11/1940</td>\n",
       "      <td>1e Operaconcert</td>\n",
       "      <td>False</td>\n",
       "      <td>207120</td>\n",
       "      <td>1e Operaconcert</td>\n",
       "    </tr>\n",
       "    <tr>\n",
       "      <th>4</th>\n",
       "      <td>3/11/1940</td>\n",
       "      <td>Het Land der Meisjes</td>\n",
       "      <td>False</td>\n",
       "      <td>886199</td>\n",
       "      <td>Het Land der Meisjes</td>\n",
       "    </tr>\n",
       "  </tbody>\n",
       "</table>\n",
       "</div>"
      ],
      "text/plain": [
       "         Date                          Production  Multiple bill  \\\n",
       "0  26/10/1940  De Vroolijke vrouwtjes van Windsor          False   \n",
       "1  27/10/1940  De Vroolijke vrouwtjes van Windsor          False   \n",
       "2  27/10/1940                Het Land der Meisjes          False   \n",
       "3   3/11/1940                     1e Operaconcert          False   \n",
       "4   3/11/1940                Het Land der Meisjes          False   \n",
       "\n",
       "   Performances_ID                  Normalised title  \n",
       "0           221650  De Lustige Vrouwtjes van Windsor  \n",
       "1           373227  De Lustige Vrouwtjes van Windsor  \n",
       "2           278393              Het Land der Meisjes  \n",
       "3           207120                   1e Operaconcert  \n",
       "4           886199              Het Land der Meisjes  "
      ]
     },
     "execution_count": 13,
     "metadata": {},
     "output_type": "execute_result"
    }
   ],
   "source": [
    "df.head()"
   ]
  },
  {
   "cell_type": "code",
   "execution_count": 14,
   "id": "f002fd2f",
   "metadata": {},
   "outputs": [],
   "source": [
    "#delete all leading and trailing whitespaces.\n",
    "for column in df.columns:\n",
    "    try:\n",
    "        df[column] = df[column].str.strip()\n",
    "    except AttributeError:\n",
    "        continue"
   ]
  },
  {
   "cell_type": "code",
   "execution_count": 15,
   "id": "f990f4a2",
   "metadata": {},
   "outputs": [],
   "source": [
    "#norm_titles = df['Normalised title'].unique()\n",
    "#print(norm_titles)"
   ]
  },
  {
   "cell_type": "markdown",
   "id": "4806b0f9",
   "metadata": {},
   "source": [
    "## Add metadata"
   ]
  },
  {
   "cell_type": "markdown",
   "id": "f96fa8b9",
   "metadata": {},
   "source": [
    "Load dictionary-formatted txt-file containing additional metadata.\n",
    "- key = normalised title\n",
    "- value [0] = original title\n",
    "- value [1] = composer\n",
    "- value [2] = year of first performance\n",
    "- value [3] = original title\n",
    "- value [4] = genre (not used in the thesis)\n"
   ]
  },
  {
   "cell_type": "code",
   "execution_count": 16,
   "id": "28d6105c",
   "metadata": {},
   "outputs": [],
   "source": [
    "with open('../Materials/META2.txt','r', encoding = 'UTF8') as inf:\n",
    "    Metadata = eval(inf.read())\n",
    "\n",
    "#load the metadata"
   ]
  },
  {
   "cell_type": "code",
   "execution_count": 17,
   "id": "3fb94576",
   "metadata": {},
   "outputs": [
    {
     "name": "stderr",
     "output_type": "stream",
     "text": [
      "IOPub data rate exceeded.\n",
      "The notebook server will temporarily stop sending output\n",
      "to the client in order to avoid crashing it.\n",
      "To change this limit, set the config variable\n",
      "`--NotebookApp.iopub_data_rate_limit`.\n",
      "\n",
      "Current values:\n",
      "NotebookApp.iopub_data_rate_limit=1000000.0 (bytes/sec)\n",
      "NotebookApp.rate_limit_window=3.0 (secs)\n",
      "\n"
     ]
    }
   ],
   "source": [
    "#Check if the txt-file is formatted correctly\n",
    "output = []\n",
    "for key, values in Metadata.items():\n",
    "    if len(values) != 5:\n",
    "       output.append(values)\n",
    "       print(output)\n",
    "\n",
    "if len(output) == 0:\n",
    "    print('Looking good!')"
   ]
  },
  {
   "cell_type": "code",
   "execution_count": 18,
   "id": "f24ea659",
   "metadata": {},
   "outputs": [
    {
     "name": "stdout",
     "output_type": "stream",
     "text": [
      "ITA\n",
      "DUI\n",
      "NL\n"
     ]
    }
   ],
   "source": [
    "#Define a function that identifies the original language based on the metadata.\n",
    "\n",
    "def add_taal (row):\n",
    "    for key, values in Metadata.items():\n",
    "        if row == key:\n",
    "            return values[0]\n",
    "    else:\n",
    "        return 'N/A'\n",
    "\n",
    "#try it out.\n",
    "\n",
    "a = \"Madame Butterfly\"\n",
    "b = \"Tannhauser\"\n",
    "c = \"Quinten Massijs\"\n",
    "\n",
    "print(add_taal(a))\n",
    "print(add_taal(b))\n",
    "print(add_taal(c))"
   ]
  },
  {
   "cell_type": "code",
   "execution_count": 19,
   "id": "f9eb1c23",
   "metadata": {},
   "outputs": [
    {
     "name": "stdout",
     "output_type": "stream",
     "text": [
      "Giacomo Puccini\n",
      "Richard Wagner\n",
      "Emile Wambach\n"
     ]
    }
   ],
   "source": [
    "#Define a function that identifies the composer based on the metadata.\n",
    "\n",
    "def add_composer (row):\n",
    "    for key, values in Metadata.items():\n",
    "        if row == key:\n",
    "            return values[1]\n",
    "    else:\n",
    "        return 'N/A'\n",
    "    \n",
    "#try it out.\n",
    "\n",
    "print(add_composer(a))\n",
    "print(add_composer(b))\n",
    "print(add_composer(c))"
   ]
  },
  {
   "cell_type": "code",
   "execution_count": 20,
   "id": "56caf190",
   "metadata": {},
   "outputs": [
    {
     "name": "stdout",
     "output_type": "stream",
     "text": [
      "1904\n",
      "1845\n",
      "1899\n"
     ]
    }
   ],
   "source": [
    "#Define a function that identifies the year of the first performance based on the metadata.\n",
    "\n",
    "def add_premiere (row):\n",
    "    for key, values in Metadata.items():\n",
    "        if row == key:\n",
    "            return values[2]\n",
    "    else:\n",
    "        return 'N/A'\n",
    "\n",
    "print(add_premiere(a))\n",
    "print(add_premiere(b))\n",
    "print(add_premiere(c))"
   ]
  },
  {
   "cell_type": "code",
   "execution_count": 21,
   "id": "b805a14a",
   "metadata": {},
   "outputs": [
    {
     "name": "stdout",
     "output_type": "stream",
     "text": [
      "Madama Butterfly\n",
      "Tannhäuser\n",
      "Quinten Massys\n"
     ]
    }
   ],
   "source": [
    "#Define a function that identifies the year of the original title based on the metadata.\n",
    "\n",
    "def add_oortitel (row):\n",
    "    for key, values in Metadata.items():\n",
    "        if row == key:\n",
    "            return values[3]\n",
    "    else:\n",
    "        return 'N/A'\n",
    "\n",
    "\n",
    "print(add_oortitel(a))\n",
    "print(add_oortitel(b))\n",
    "print(add_oortitel(c))"
   ]
  },
  {
   "cell_type": "code",
   "execution_count": 22,
   "id": "7b41dfac",
   "metadata": {},
   "outputs": [
    {
     "name": "stdout",
     "output_type": "stream",
     "text": [
      "opera seria\n",
      "romantische oper\n",
      "lyrisch drama\n"
     ]
    }
   ],
   "source": [
    "#Define a function that identifies the year of the genre based on the metadata.\n",
    "\n",
    "def add_genre (row):\n",
    "    for key, values in Metadata.items():\n",
    "        if row == key:\n",
    "            return values[4].lower()\n",
    "    else:\n",
    "        return 'N/A'\n",
    "\n",
    "\n",
    "print(add_genre(a))\n",
    "print(add_genre(b))\n",
    "print(add_genre(c))"
   ]
  },
  {
   "cell_type": "code",
   "execution_count": 23,
   "id": "59036f7b",
   "metadata": {},
   "outputs": [
    {
     "data": {
      "text/html": [
       "<div>\n",
       "<style scoped>\n",
       "    .dataframe tbody tr th:only-of-type {\n",
       "        vertical-align: middle;\n",
       "    }\n",
       "\n",
       "    .dataframe tbody tr th {\n",
       "        vertical-align: top;\n",
       "    }\n",
       "\n",
       "    .dataframe thead th {\n",
       "        text-align: right;\n",
       "    }\n",
       "</style>\n",
       "<table border=\"1\" class=\"dataframe\">\n",
       "  <thead>\n",
       "    <tr style=\"text-align: right;\">\n",
       "      <th></th>\n",
       "      <th>Date</th>\n",
       "      <th>Production</th>\n",
       "      <th>Multiple bill</th>\n",
       "      <th>Performances_ID</th>\n",
       "      <th>Normalised title</th>\n",
       "      <th>Original language</th>\n",
       "      <th>Composer</th>\n",
       "      <th>Original premiere</th>\n",
       "      <th>Original title</th>\n",
       "      <th>genre</th>\n",
       "    </tr>\n",
       "  </thead>\n",
       "  <tbody>\n",
       "    <tr>\n",
       "      <th>148</th>\n",
       "      <td>5/6/1941</td>\n",
       "      <td>De Vogelhandelaar</td>\n",
       "      <td>False</td>\n",
       "      <td>492061</td>\n",
       "      <td>De Vogelhandelaar</td>\n",
       "      <td>DUI</td>\n",
       "      <td>Carl Zeller</td>\n",
       "      <td>1891</td>\n",
       "      <td>Der Vogelhändler</td>\n",
       "      <td>operette</td>\n",
       "    </tr>\n",
       "    <tr>\n",
       "      <th>603</th>\n",
       "      <td>16/5/1943</td>\n",
       "      <td>De Rozenkavalier</td>\n",
       "      <td>False</td>\n",
       "      <td>677999</td>\n",
       "      <td>De Rozenkavalier</td>\n",
       "      <td>DUI</td>\n",
       "      <td>Richard Strauss</td>\n",
       "      <td>1911</td>\n",
       "      <td>Der Rosenkavalier</td>\n",
       "      <td>comic-fantasy</td>\n",
       "    </tr>\n",
       "    <tr>\n",
       "      <th>268</th>\n",
       "      <td>1/1/1942</td>\n",
       "      <td>Orpheus</td>\n",
       "      <td>False</td>\n",
       "      <td>576903</td>\n",
       "      <td>Orpheus' Dood</td>\n",
       "      <td>FR</td>\n",
       "      <td>Jacques Offenbach</td>\n",
       "      <td>1858</td>\n",
       "      <td>Orphée aux enfers</td>\n",
       "      <td>operetta</td>\n",
       "    </tr>\n",
       "    <tr>\n",
       "      <th>82</th>\n",
       "      <td>2/3/1941</td>\n",
       "      <td>De Zigeunerbaron</td>\n",
       "      <td>False</td>\n",
       "      <td>180536</td>\n",
       "      <td>De Zigeunerbaron</td>\n",
       "      <td>DUI</td>\n",
       "      <td>Johann Strauss</td>\n",
       "      <td>1885</td>\n",
       "      <td>Der Zigeunerbaron</td>\n",
       "      <td>operetta</td>\n",
       "    </tr>\n",
       "    <tr>\n",
       "      <th>421</th>\n",
       "      <td>8/10/1942</td>\n",
       "      <td>Tosca</td>\n",
       "      <td>False</td>\n",
       "      <td>556971</td>\n",
       "      <td>Tosca</td>\n",
       "      <td>ITA</td>\n",
       "      <td>Giacomo Puccini</td>\n",
       "      <td>1900</td>\n",
       "      <td>Tosca</td>\n",
       "      <td>verismo opera</td>\n",
       "    </tr>\n",
       "  </tbody>\n",
       "</table>\n",
       "</div>"
      ],
      "text/plain": [
       "          Date         Production  Multiple bill  Performances_ID  \\\n",
       "148   5/6/1941  De Vogelhandelaar          False           492061   \n",
       "603  16/5/1943   De Rozenkavalier          False           677999   \n",
       "268   1/1/1942            Orpheus          False           576903   \n",
       "82    2/3/1941   De Zigeunerbaron          False           180536   \n",
       "421  8/10/1942              Tosca          False           556971   \n",
       "\n",
       "      Normalised title Original language           Composer Original premiere  \\\n",
       "148  De Vogelhandelaar               DUI        Carl Zeller              1891   \n",
       "603   De Rozenkavalier               DUI    Richard Strauss              1911   \n",
       "268      Orpheus' Dood                FR  Jacques Offenbach              1858   \n",
       "82    De Zigeunerbaron               DUI     Johann Strauss              1885   \n",
       "421              Tosca               ITA    Giacomo Puccini              1900   \n",
       "\n",
       "        Original title          genre  \n",
       "148   Der Vogelhändler       operette  \n",
       "603  Der Rosenkavalier  comic-fantasy  \n",
       "268  Orphée aux enfers       operetta  \n",
       "82   Der Zigeunerbaron       operetta  \n",
       "421              Tosca  verismo opera  "
      ]
     },
     "execution_count": 23,
     "metadata": {},
     "output_type": "execute_result"
    }
   ],
   "source": [
    "#add the metadata as new columns in the dataframe.\n",
    "\n",
    "df['Original language'] = df['Normalised title'].apply(add_taal)\n",
    "df['Composer'] = df['Normalised title'].apply(add_composer)\n",
    "df['Original premiere'] = df['Normalised title'].apply(add_premiere)\n",
    "df['Original title'] = df['Normalised title'].apply(add_oortitel)\n",
    "df['genre'] = df['Normalised title'].apply(add_genre)\n",
    "df.sample(5)"
   ]
  },
  {
   "cell_type": "markdown",
   "id": "763fe937",
   "metadata": {},
   "source": [
    "## Additional preprocessing"
   ]
  },
  {
   "cell_type": "code",
   "execution_count": 24,
   "id": "d46f7422",
   "metadata": {},
   "outputs": [],
   "source": [
    "#Convert the Date column to datetime\n",
    "\n",
    "df['Date'] = pd.to_datetime(df['Date'], dayfirst=True, errors='coerce')"
   ]
  },
  {
   "cell_type": "code",
   "execution_count": 25,
   "id": "ff74ef4c",
   "metadata": {},
   "outputs": [],
   "source": [
    "# Obtain the season. An operatic season runs (approximately) from September to May\n",
    "def get_season(date):\n",
    "    year = date.year\n",
    "    if date.month >= 9:\n",
    "        return f\"{year}-{year+1}\"\n",
    "    else:\n",
    "        return f\"{year-1}-{year}\"\n",
    "\n",
    "\n",
    "df['Season'] = df['Date'].apply(get_season)"
   ]
  },
  {
   "cell_type": "code",
   "execution_count": 26,
   "id": "482ff7f6",
   "metadata": {},
   "outputs": [
    {
     "name": "stdout",
     "output_type": "stream",
     "text": [
      "8 of 898 records removed\n"
     ]
    }
   ],
   "source": [
    "#Remove irrelevant pages, i.e. pages where both the production and the date of performance are missing\n",
    "\n",
    "old_len = len(df)\n",
    "df2 = df.dropna(subset=['Production','Date'])\n",
    "print(f'{old_len - len(df2)} of {old_len} records removed')"
   ]
  },
  {
   "cell_type": "code",
   "execution_count": 27,
   "id": "c7cfc487",
   "metadata": {},
   "outputs": [
    {
     "name": "stdout",
     "output_type": "stream",
     "text": [
      "28 of 890 records removed! 862 records remain\n"
     ]
    }
   ],
   "source": [
    "#Remove duplicate, i.e. cases in which the production and date are the same.\n",
    "\n",
    "all_dups = len(df2)\n",
    "df2 = df2.drop_duplicates(subset=['Production', 'Date'])\n",
    "print(f'{all_dups - len(df2)} of {all_dups} records removed! {len(df2)} records remain')"
   ]
  },
  {
   "cell_type": "code",
   "execution_count": 28,
   "id": "b484ca9f",
   "metadata": {},
   "outputs": [
    {
     "data": {
      "image/png": "[encoded data removed]",
      "text/plain": [
       "<Figure size 432x288 with 1 Axes>"
      ]
     },
     "metadata": {
      "needs_background": "light"
     },
     "output_type": "display_data"
    }
   ],
   "source": [
    "import matplotlib.pyplot as plt\n",
    "\n",
    "fig, ax = plt.subplots()\n",
    "\n",
    "counts1 = df['Season'].value_counts()[df2['Season'].unique()].sort_index()\n",
    "counts2 = df2['Season'].value_counts().sort_index()\n",
    "\n",
    "counts2 = counts2.sort_index()\n",
    "x2 = counts2.index\n",
    "y2 = counts2.values\n",
    "\n",
    "counts1 = counts1.sort_index()\n",
    "\n",
    "# Generate x and y data for the bar plot\n",
    "x = counts1.index\n",
    "y = counts1.values\n",
    "\n",
    "# Plotting the bar plots\n",
    "ax.bar(x, y, color='palevioletred', label='No. of images before preprocessing')\n",
    "ax.bar(x2, y2, color='slategrey', label='No. of performances after preprocessing')\n",
    "\n",
    "# Adding ticks and labels to the x-axis\n",
    "ax.set_xticks(range(len(x)))\n",
    "ax.set_xticklabels(x, rotation=-90)\n",
    "\n",
    "# Adding labels and title\n",
    "ax.set_xlabel('Season')\n",
    "ax.set_ylabel('Count')\n",
    "ax.set_title('Collections before and after preprocessing')\n",
    "\n",
    "# Display the bar plots\n",
    "plt.legend()\n",
    "plt.show()"
   ]
  },
  {
   "cell_type": "code",
   "execution_count": 29,
   "id": "d80a242a",
   "metadata": {},
   "outputs": [],
   "source": [
    "#Save the new dataset\n",
    "#df2.to_csv('../Materials/Cleaned_DatasetGENT.csv', encoding = 'utf-8')"
   ]
  }
 ],
 "metadata": {
  "kernelspec": {
   "display_name": "Python 3 (ipykernel)",
   "language": "python",
   "name": "python3"
  },
  "language_info": {
   "codemirror_mode": {
    "name": "ipython",
    "version": 3
   },
   "file_extension": ".py",
   "mimetype": "text/x-python",
   "name": "python",
   "nbconvert_exporter": "python",
   "pygments_lexer": "ipython3",
   "version": "3.9.12"
  },
  "vscode": {
   "interpreter": {
    "hash": "96e0a4d32f1918f770291244863a4a1e044b05d1a3b8d455e2e179187e01062a"
   }
  }
 },
 "nbformat": 4,
 "nbformat_minor": 5
}
